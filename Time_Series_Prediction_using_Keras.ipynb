{
  "nbformat": 4,
  "nbformat_minor": 0,
  "metadata": {
    "colab": {
      "name": "Time_Series_Prediction_using_Keras.ipynb",
      "provenance": [],
      "include_colab_link": true
    },
    "kernelspec": {
      "name": "python3",
      "display_name": "Python 3"
    },
    "language_info": {
      "name": "python"
    }
  },
  "cells": [
    {
      "cell_type": "markdown",
      "metadata": {
        "id": "view-in-github",
        "colab_type": "text"
      },
      "source": [
        "<a href=\"https://colab.research.google.com/github/anushka012/Time_Series_Prediction/blob/main/Time_Series_Prediction_using_Keras.ipynb\" target=\"_parent\"><img src=\"https://colab.research.google.com/assets/colab-badge.svg\" alt=\"Open In Colab\"/></a>"
      ]
    },
    {
      "cell_type": "code",
      "execution_count": null,
      "metadata": {
        "id": "TnDDXgQABnoJ"
      },
      "outputs": [],
      "source": [
        "import pandas as pd\n",
        "import matplotlib.pyplot as plt"
      ]
    },
    {
      "cell_type": "code",
      "source": [
        "df = pd.read_excel(\"//content/Sample_Individual_Pandas.xlsx\")\n",
        "df"
      ],
      "metadata": {
        "colab": {
          "base_uri": "https://localhost:8080/",
          "height": 423
        },
        "id": "TG6G5G3mCCie",
        "outputId": "9bd1074b-1bae-4c20-cda7-3808e8ee8eb8"
      },
      "execution_count": null,
      "outputs": [
        {
          "output_type": "execute_result",
          "data": {
            "text/html": [
              "\n",
              "  <div id=\"df-177f1c34-47b9-4814-908e-038c10196284\">\n",
              "    <div class=\"colab-df-container\">\n",
              "      <div>\n",
              "<style scoped>\n",
              "    .dataframe tbody tr th:only-of-type {\n",
              "        vertical-align: middle;\n",
              "    }\n",
              "\n",
              "    .dataframe tbody tr th {\n",
              "        vertical-align: top;\n",
              "    }\n",
              "\n",
              "    .dataframe thead th {\n",
              "        text-align: right;\n",
              "    }\n",
              "</style>\n",
              "<table border=\"1\" class=\"dataframe\">\n",
              "  <thead>\n",
              "    <tr style=\"text-align: right;\">\n",
              "      <th></th>\n",
              "      <th>Year</th>\n",
              "      <th>Index</th>\n",
              "      <th>Location</th>\n",
              "      <th>Area (Ha)</th>\n",
              "      <th>Rice (M Tonnes)</th>\n",
              "      <th>Wheat (M Tonnes)</th>\n",
              "      <th>Sugar (M Tonnes)</th>\n",
              "    </tr>\n",
              "  </thead>\n",
              "  <tbody>\n",
              "    <tr>\n",
              "      <th>0</th>\n",
              "      <td>2010</td>\n",
              "      <td>0</td>\n",
              "      <td>Eastern</td>\n",
              "      <td>1</td>\n",
              "      <td>2402</td>\n",
              "      <td>2902</td>\n",
              "      <td>59910</td>\n",
              "    </tr>\n",
              "    <tr>\n",
              "      <th>1</th>\n",
              "      <td>2010</td>\n",
              "      <td>1</td>\n",
              "      <td>Eastern</td>\n",
              "      <td>1</td>\n",
              "      <td>2402</td>\n",
              "      <td>2902</td>\n",
              "      <td>59910</td>\n",
              "    </tr>\n",
              "    <tr>\n",
              "      <th>2</th>\n",
              "      <td>2010</td>\n",
              "      <td>2</td>\n",
              "      <td>Eastern</td>\n",
              "      <td>0</td>\n",
              "      <td>0</td>\n",
              "      <td>0</td>\n",
              "      <td>0</td>\n",
              "    </tr>\n",
              "    <tr>\n",
              "      <th>3</th>\n",
              "      <td>2010</td>\n",
              "      <td>3</td>\n",
              "      <td>Eastern</td>\n",
              "      <td>1</td>\n",
              "      <td>2402</td>\n",
              "      <td>2902</td>\n",
              "      <td>59910</td>\n",
              "    </tr>\n",
              "    <tr>\n",
              "      <th>4</th>\n",
              "      <td>2010</td>\n",
              "      <td>4</td>\n",
              "      <td>Eastern</td>\n",
              "      <td>1</td>\n",
              "      <td>2402</td>\n",
              "      <td>2902</td>\n",
              "      <td>59910</td>\n",
              "    </tr>\n",
              "    <tr>\n",
              "      <th>...</th>\n",
              "      <td>...</td>\n",
              "      <td>...</td>\n",
              "      <td>...</td>\n",
              "      <td>...</td>\n",
              "      <td>...</td>\n",
              "      <td>...</td>\n",
              "      <td>...</td>\n",
              "    </tr>\n",
              "    <tr>\n",
              "      <th>955</th>\n",
              "      <td>2021</td>\n",
              "      <td>15</td>\n",
              "      <td>Western</td>\n",
              "      <td>1</td>\n",
              "      <td>2353</td>\n",
              "      <td>3721</td>\n",
              "      <td>63226</td>\n",
              "    </tr>\n",
              "    <tr>\n",
              "      <th>956</th>\n",
              "      <td>2021</td>\n",
              "      <td>16</td>\n",
              "      <td>Western</td>\n",
              "      <td>2</td>\n",
              "      <td>4706</td>\n",
              "      <td>7442</td>\n",
              "      <td>126452</td>\n",
              "    </tr>\n",
              "    <tr>\n",
              "      <th>957</th>\n",
              "      <td>2021</td>\n",
              "      <td>17</td>\n",
              "      <td>Western</td>\n",
              "      <td>0</td>\n",
              "      <td>0</td>\n",
              "      <td>0</td>\n",
              "      <td>0</td>\n",
              "    </tr>\n",
              "    <tr>\n",
              "      <th>958</th>\n",
              "      <td>2021</td>\n",
              "      <td>18</td>\n",
              "      <td>Western</td>\n",
              "      <td>0</td>\n",
              "      <td>0</td>\n",
              "      <td>0</td>\n",
              "      <td>0</td>\n",
              "    </tr>\n",
              "    <tr>\n",
              "      <th>959</th>\n",
              "      <td>2021</td>\n",
              "      <td>19</td>\n",
              "      <td>Western</td>\n",
              "      <td>0</td>\n",
              "      <td>0</td>\n",
              "      <td>0</td>\n",
              "      <td>0</td>\n",
              "    </tr>\n",
              "  </tbody>\n",
              "</table>\n",
              "<p>960 rows × 7 columns</p>\n",
              "</div>\n",
              "      <button class=\"colab-df-convert\" onclick=\"convertToInteractive('df-177f1c34-47b9-4814-908e-038c10196284')\"\n",
              "              title=\"Convert this dataframe to an interactive table.\"\n",
              "              style=\"display:none;\">\n",
              "        \n",
              "  <svg xmlns=\"http://www.w3.org/2000/svg\" height=\"24px\"viewBox=\"0 0 24 24\"\n",
              "       width=\"24px\">\n",
              "    <path d=\"M0 0h24v24H0V0z\" fill=\"none\"/>\n",
              "    <path d=\"M18.56 5.44l.94 2.06.94-2.06 2.06-.94-2.06-.94-.94-2.06-.94 2.06-2.06.94zm-11 1L8.5 8.5l.94-2.06 2.06-.94-2.06-.94L8.5 2.5l-.94 2.06-2.06.94zm10 10l.94 2.06.94-2.06 2.06-.94-2.06-.94-.94-2.06-.94 2.06-2.06.94z\"/><path d=\"M17.41 7.96l-1.37-1.37c-.4-.4-.92-.59-1.43-.59-.52 0-1.04.2-1.43.59L10.3 9.45l-7.72 7.72c-.78.78-.78 2.05 0 2.83L4 21.41c.39.39.9.59 1.41.59.51 0 1.02-.2 1.41-.59l7.78-7.78 2.81-2.81c.8-.78.8-2.07 0-2.86zM5.41 20L4 18.59l7.72-7.72 1.47 1.35L5.41 20z\"/>\n",
              "  </svg>\n",
              "      </button>\n",
              "      \n",
              "  <style>\n",
              "    .colab-df-container {\n",
              "      display:flex;\n",
              "      flex-wrap:wrap;\n",
              "      gap: 12px;\n",
              "    }\n",
              "\n",
              "    .colab-df-convert {\n",
              "      background-color: #E8F0FE;\n",
              "      border: none;\n",
              "      border-radius: 50%;\n",
              "      cursor: pointer;\n",
              "      display: none;\n",
              "      fill: #1967D2;\n",
              "      height: 32px;\n",
              "      padding: 0 0 0 0;\n",
              "      width: 32px;\n",
              "    }\n",
              "\n",
              "    .colab-df-convert:hover {\n",
              "      background-color: #E2EBFA;\n",
              "      box-shadow: 0px 1px 2px rgba(60, 64, 67, 0.3), 0px 1px 3px 1px rgba(60, 64, 67, 0.15);\n",
              "      fill: #174EA6;\n",
              "    }\n",
              "\n",
              "    [theme=dark] .colab-df-convert {\n",
              "      background-color: #3B4455;\n",
              "      fill: #D2E3FC;\n",
              "    }\n",
              "\n",
              "    [theme=dark] .colab-df-convert:hover {\n",
              "      background-color: #434B5C;\n",
              "      box-shadow: 0px 1px 3px 1px rgba(0, 0, 0, 0.15);\n",
              "      filter: drop-shadow(0px 1px 2px rgba(0, 0, 0, 0.3));\n",
              "      fill: #FFFFFF;\n",
              "    }\n",
              "  </style>\n",
              "\n",
              "      <script>\n",
              "        const buttonEl =\n",
              "          document.querySelector('#df-177f1c34-47b9-4814-908e-038c10196284 button.colab-df-convert');\n",
              "        buttonEl.style.display =\n",
              "          google.colab.kernel.accessAllowed ? 'block' : 'none';\n",
              "\n",
              "        async function convertToInteractive(key) {\n",
              "          const element = document.querySelector('#df-177f1c34-47b9-4814-908e-038c10196284');\n",
              "          const dataTable =\n",
              "            await google.colab.kernel.invokeFunction('convertToInteractive',\n",
              "                                                     [key], {});\n",
              "          if (!dataTable) return;\n",
              "\n",
              "          const docLinkHtml = 'Like what you see? Visit the ' +\n",
              "            '<a target=\"_blank\" href=https://colab.research.google.com/notebooks/data_table.ipynb>data table notebook</a>'\n",
              "            + ' to learn more about interactive tables.';\n",
              "          element.innerHTML = '';\n",
              "          dataTable['output_type'] = 'display_data';\n",
              "          await google.colab.output.renderOutput(dataTable, element);\n",
              "          const docLink = document.createElement('div');\n",
              "          docLink.innerHTML = docLinkHtml;\n",
              "          element.appendChild(docLink);\n",
              "        }\n",
              "      </script>\n",
              "    </div>\n",
              "  </div>\n",
              "  "
            ],
            "text/plain": [
              "     Year  Index Location  ...  Rice (M Tonnes)  Wheat (M Tonnes)  Sugar (M Tonnes)\n",
              "0    2010      0  Eastern  ...             2402              2902             59910\n",
              "1    2010      1  Eastern  ...             2402              2902             59910\n",
              "2    2010      2  Eastern  ...                0                 0                 0\n",
              "3    2010      3  Eastern  ...             2402              2902             59910\n",
              "4    2010      4  Eastern  ...             2402              2902             59910\n",
              "..    ...    ...      ...  ...              ...               ...               ...\n",
              "955  2021     15  Western  ...             2353              3721             63226\n",
              "956  2021     16  Western  ...             4706              7442            126452\n",
              "957  2021     17  Western  ...                0                 0                 0\n",
              "958  2021     18  Western  ...                0                 0                 0\n",
              "959  2021     19  Western  ...                0                 0                 0\n",
              "\n",
              "[960 rows x 7 columns]"
            ]
          },
          "metadata": {},
          "execution_count": 4
        }
      ]
    },
    {
      "cell_type": "code",
      "source": [
        "import numpy as np\n",
        "import matplotlib.pyplot as plt\n",
        "import pandas\n",
        "import math\n",
        "from keras.models import Sequential\n",
        "from keras.layers import Dense\n",
        "from keras.layers import LSTM\n",
        "from sklearn.preprocessing import MinMaxScaler\n",
        "from sklearn.metrics import mean_squared_error"
      ],
      "metadata": {
        "id": "0N2-7M1wCCk7"
      },
      "execution_count": null,
      "outputs": []
    },
    {
      "cell_type": "code",
      "source": [
        "# fix random seed for reproducibility\n",
        "numpy.random.seed(7)"
      ],
      "metadata": {
        "id": "zBvRZllnCCnB"
      },
      "execution_count": null,
      "outputs": []
    },
    {
      "cell_type": "markdown",
      "source": [
        "***Normalize the dataset***"
      ],
      "metadata": {
        "id": "N_DkfKaaEci_"
      }
    },
    {
      "cell_type": "code",
      "source": [
        "temp = df[df['Location'] == 'Eastern']['Rice (M Tonnes)'].copy()\n",
        "temp"
      ],
      "metadata": {
        "colab": {
          "base_uri": "https://localhost:8080/"
        },
        "id": "JVNxQST4EY8n",
        "outputId": "8fd25210-e501-4415-aab6-0c9b5a546f59"
      },
      "execution_count": null,
      "outputs": [
        {
          "output_type": "execute_result",
          "data": {
            "text/plain": [
              "0      2402\n",
              "1      2402\n",
              "2         0\n",
              "3      2402\n",
              "4      2402\n",
              "       ... \n",
              "235    2402\n",
              "236    7206\n",
              "237       0\n",
              "238    4804\n",
              "239    2402\n",
              "Name: Rice (M Tonnes), Length: 240, dtype: int64"
            ]
          },
          "metadata": {},
          "execution_count": 15
        }
      ]
    },
    {
      "cell_type": "code",
      "source": [
        "obs = np.arange(1, len(temp) + 1, 1)"
      ],
      "metadata": {
        "id": "9hymFCFXEtCq"
      },
      "execution_count": null,
      "outputs": []
    },
    {
      "cell_type": "code",
      "source": [
        "scaler = MinMaxScaler()\n",
        "temp = scaler.fit_transform(np.array(temp).reshape(-1,1))"
      ],
      "metadata": {
        "id": "4FHNRhnJEY_i"
      },
      "execution_count": null,
      "outputs": []
    },
    {
      "cell_type": "markdown",
      "source": [
        "***Data Preprocessing***"
      ],
      "metadata": {
        "id": "RYBHO9GuOPyE"
      }
    },
    {
      "cell_type": "code",
      "source": [
        "def vector_seq(sequences, dimension=10000):\n",
        "    results = zeros((len(sequences), dimension))\n",
        "    for i, sequence in enumerate(sequences):\n",
        "        results[i, sequence] = 1.\n",
        "    return results"
      ],
      "metadata": {
        "id": "ZTaFpg5WINPd"
      },
      "execution_count": null,
      "outputs": []
    },
    {
      "cell_type": "code",
      "source": [
        "def convert2matrix(data_arr, look_back):\n",
        " X, Y =[], []\n",
        " for i in range(len(data_arr)-look_back):\n",
        "  d=i+look_back  \n",
        "  X.append(data_arr[i:d,0])\n",
        "  Y.append(data_arr[d,0])\n",
        " return np.array(X), np.array(Y)"
      ],
      "metadata": {
        "id": "WngT9qfcFm05"
      },
      "execution_count": null,
      "outputs": []
    },
    {
      "cell_type": "markdown",
      "source": [
        "***Split dataset into test and training datasets***"
      ],
      "metadata": {
        "id": "U3NzJFvWOWgp"
      }
    },
    {
      "cell_type": "code",
      "source": [
        "#Split data set into testing dataset and train dataset\n",
        "train_size = 1000\n",
        "train, test =df.values[0:train_size,:],df.values[train_size:len(df.values),:]\n",
        "# setup look_back window \n",
        "look_back = 30\n",
        "#convert dataset into right shape in order to input into the DNN\n",
        "trainX, trainY = convert2matrix(train, look_back)\n",
        "testX, testY = convert2matrix(test, look_back)"
      ],
      "metadata": {
        "id": "yXbj1u7UEZCH"
      },
      "execution_count": null,
      "outputs": []
    },
    {
      "cell_type": "markdown",
      "source": [
        "***Define neural network shape and compile model***"
      ],
      "metadata": {
        "id": "93EJcf4zObFN"
      }
    },
    {
      "cell_type": "code",
      "source": [
        "from keras.models import Sequential\n",
        "from keras.layers import Dense\n",
        "def model_dnn(look_back):\n",
        "    model=Sequential()\n",
        "    model.add(Dense(units=32, input_dim=look_back, activation='relu'))\n",
        "    model.add(Dense(8, activation='relu'))\n",
        "    model.add(Dense(1))\n",
        "    model.compile(loss='mean_squared_error',  optimizer='adam',metrics = ['mse', 'mae'])\n",
        "    return model"
      ],
      "metadata": {
        "id": "ZXSzGIADFsNE"
      },
      "execution_count": null,
      "outputs": []
    },
    {
      "cell_type": "code",
      "source": [
        "import tensorflow as tf"
      ],
      "metadata": {
        "id": "0WPCBxHUJxW1"
      },
      "execution_count": null,
      "outputs": []
    },
    {
      "cell_type": "code",
      "source": [
        "from keras.callbacks import ModelCheckpoint, EarlyStopping"
      ],
      "metadata": {
        "id": "E95VIfsHGJL_"
      },
      "execution_count": null,
      "outputs": []
    },
    {
      "cell_type": "code",
      "source": [
        "testX= tf.convert_to_tensor(testX)\n",
        "testY= tf.convert_to_tensor(testY)"
      ],
      "metadata": {
        "id": "_ZVlbie3Jp_w"
      },
      "execution_count": null,
      "outputs": []
    },
    {
      "cell_type": "code",
      "source": [
        "trainX = np.asarray(trainX).astype(np.float32)\n",
        "trainY = np.asarray(trainY).astype(np.float32)"
      ],
      "metadata": {
        "id": "ympLHPTUKEEN"
      },
      "execution_count": null,
      "outputs": []
    },
    {
      "cell_type": "markdown",
      "source": [
        "***Fit Model***"
      ],
      "metadata": {
        "id": "RAITN6cTOeyL"
      }
    },
    {
      "cell_type": "code",
      "source": [
        "model= model_dnn(look_back)\n",
        "\n",
        "history=model.fit(trainX,trainY, epochs=100, batch_size=30, verbose=1, \n",
        "                  validation_data=(testX,testY),callbacks=[EarlyStopping(monitor='val_loss', patience=10)],shuffle=False)"
      ],
      "metadata": {
        "colab": {
          "base_uri": "https://localhost:8080/"
        },
        "id": "TTwjxW90FsPr",
        "outputId": "cedf8bc1-9ec9-43ed-8d7e-a2fe3448c34a"
      },
      "execution_count": null,
      "outputs": [
        {
          "output_type": "stream",
          "name": "stdout",
          "text": [
            "Epoch 1/100\n",
            " 1/31 [..............................] - ETA: 18s - loss: 268370.9375 - mse: 268370.9375 - mae: 518.0449WARNING:tensorflow:Early stopping conditioned on metric `val_loss` which is not available. Available metrics are: loss,mse,mae\n",
            "31/31 [==============================] - 1s 3ms/step - loss: 28065.7148 - mse: 28065.7168 - mae: 129.4751\n",
            "Epoch 2/100\n",
            "29/31 [===========================>..] - ETA: 0s - loss: 1064.5533 - mse: 1064.5533 - mae: 27.1264WARNING:tensorflow:Early stopping conditioned on metric `val_loss` which is not available. Available metrics are: loss,mse,mae\n",
            "31/31 [==============================] - 0s 3ms/step - loss: 997.2719 - mse: 997.2719 - mae: 25.6700\n",
            "Epoch 3/100\n",
            "30/31 [============================>.] - ETA: 0s - loss: 66.2367 - mse: 66.2367 - mae: 6.7827   WARNING:tensorflow:Early stopping conditioned on metric `val_loss` which is not available. Available metrics are: loss,mse,mae\n",
            "31/31 [==============================] - 0s 3ms/step - loss: 64.4453 - mse: 64.4453 - mae: 6.6670\n",
            "Epoch 4/100\n",
            " 1/31 [..............................] - ETA: 0s - loss: 1.3971 - mse: 1.3971 - mae: 1.0279WARNING:tensorflow:Early stopping conditioned on metric `val_loss` which is not available. Available metrics are: loss,mse,mae\n",
            "31/31 [==============================] - 0s 2ms/step - loss: 18.2798 - mse: 18.2798 - mae: 3.0617\n",
            "Epoch 5/100\n",
            " 1/31 [..............................] - ETA: 0s - loss: 5.4345 - mse: 5.4345 - mae: 2.2228WARNING:tensorflow:Early stopping conditioned on metric `val_loss` which is not available. Available metrics are: loss,mse,mae\n",
            "31/31 [==============================] - 0s 2ms/step - loss: 15.5189 - mse: 15.5189 - mae: 2.8283\n",
            "Epoch 6/100\n",
            " 1/31 [..............................] - ETA: 0s - loss: 13.4151 - mse: 13.4151 - mae: 3.5947WARNING:tensorflow:Early stopping conditioned on metric `val_loss` which is not available. Available metrics are: loss,mse,mae\n",
            "31/31 [==============================] - 0s 2ms/step - loss: 15.0772 - mse: 15.0772 - mae: 2.6351\n",
            "Epoch 7/100\n",
            " 1/31 [..............................] - ETA: 0s - loss: 7.9542 - mse: 7.9542 - mae: 2.7314WARNING:tensorflow:Early stopping conditioned on metric `val_loss` which is not available. Available metrics are: loss,mse,mae\n",
            "31/31 [==============================] - 0s 2ms/step - loss: 18.2921 - mse: 18.2921 - mae: 3.0574\n",
            "Epoch 8/100\n",
            " 1/31 [..............................] - ETA: 0s - loss: 6.3721 - mse: 6.3721 - mae: 2.4245WARNING:tensorflow:Early stopping conditioned on metric `val_loss` which is not available. Available metrics are: loss,mse,mae\n",
            "31/31 [==============================] - 0s 2ms/step - loss: 23.2280 - mse: 23.2280 - mae: 3.7198\n",
            "Epoch 9/100\n",
            " 1/31 [..............................] - ETA: 0s - loss: 2.3067 - mse: 2.3067 - mae: 1.3465WARNING:tensorflow:Early stopping conditioned on metric `val_loss` which is not available. Available metrics are: loss,mse,mae\n",
            "31/31 [==============================] - 0s 2ms/step - loss: 29.8411 - mse: 29.8411 - mae: 4.5107\n",
            "Epoch 10/100\n",
            "30/31 [============================>.] - ETA: 0s - loss: 36.2712 - mse: 36.2712 - mae: 5.2001WARNING:tensorflow:Early stopping conditioned on metric `val_loss` which is not available. Available metrics are: loss,mse,mae\n",
            "31/31 [==============================] - 0s 3ms/step - loss: 35.1811 - mse: 35.1811 - mae: 5.0778\n",
            "Epoch 11/100\n",
            " 1/31 [..............................] - ETA: 0s - loss: 17.9038 - mse: 17.9038 - mae: 4.1725WARNING:tensorflow:Early stopping conditioned on metric `val_loss` which is not available. Available metrics are: loss,mse,mae\n",
            "31/31 [==============================] - 0s 2ms/step - loss: 34.3192 - mse: 34.3192 - mae: 5.0339\n",
            "Epoch 12/100\n",
            "30/31 [============================>.] - ETA: 0s - loss: 26.4809 - mse: 26.4809 - mae: 4.3550WARNING:tensorflow:Early stopping conditioned on metric `val_loss` which is not available. Available metrics are: loss,mse,mae\n",
            "31/31 [==============================] - 0s 2ms/step - loss: 26.0405 - mse: 26.0405 - mae: 4.3278\n",
            "Epoch 13/100\n",
            " 1/31 [..............................] - ETA: 0s - loss: 28.5399 - mse: 28.5399 - mae: 5.2959WARNING:tensorflow:Early stopping conditioned on metric `val_loss` which is not available. Available metrics are: loss,mse,mae\n",
            "31/31 [==============================] - 0s 2ms/step - loss: 18.1870 - mse: 18.1870 - mae: 3.4618\n",
            "Epoch 14/100\n",
            "31/31 [==============================] - ETA: 0s - loss: 15.3101 - mse: 15.3101 - mae: 3.0526WARNING:tensorflow:Early stopping conditioned on metric `val_loss` which is not available. Available metrics are: loss,mse,mae\n",
            "31/31 [==============================] - 0s 3ms/step - loss: 15.3101 - mse: 15.3101 - mae: 3.0526\n",
            "Epoch 15/100\n",
            " 1/31 [..............................] - ETA: 0s - loss: 14.3181 - mse: 14.3181 - mae: 3.7181WARNING:tensorflow:Early stopping conditioned on metric `val_loss` which is not available. Available metrics are: loss,mse,mae\n",
            "31/31 [==============================] - 0s 2ms/step - loss: 14.1017 - mse: 14.1017 - mae: 2.8480\n",
            "Epoch 16/100\n",
            " 1/31 [..............................] - ETA: 0s - loss: 11.4111 - mse: 11.4111 - mae: 3.3041WARNING:tensorflow:Early stopping conditioned on metric `val_loss` which is not available. Available metrics are: loss,mse,mae\n",
            "31/31 [==============================] - 0s 2ms/step - loss: 13.5511 - mse: 13.5511 - mae: 2.7389\n",
            "Epoch 17/100\n",
            " 1/31 [..............................] - ETA: 0s - loss: 8.9691 - mse: 8.9691 - mae: 2.9112WARNING:tensorflow:Early stopping conditioned on metric `val_loss` which is not available. Available metrics are: loss,mse,mae\n",
            "31/31 [==============================] - 0s 2ms/step - loss: 13.4002 - mse: 13.4002 - mae: 2.6985\n",
            "Epoch 18/100\n",
            " 1/31 [..............................] - ETA: 0s - loss: 6.4034 - mse: 6.4034 - mae: 2.4309WARNING:tensorflow:Early stopping conditioned on metric `val_loss` which is not available. Available metrics are: loss,mse,mae\n",
            "31/31 [==============================] - 0s 2ms/step - loss: 13.4689 - mse: 13.4689 - mae: 2.6983\n",
            "Epoch 19/100\n",
            " 1/31 [..............................] - ETA: 0s - loss: 3.7847 - mse: 3.7847 - mae: 1.8141WARNING:tensorflow:Early stopping conditioned on metric `val_loss` which is not available. Available metrics are: loss,mse,mae\n",
            "31/31 [==============================] - 0s 2ms/step - loss: 13.6052 - mse: 13.6052 - mae: 2.7037\n",
            "Epoch 20/100\n",
            " 1/31 [..............................] - ETA: 0s - loss: 1.8558 - mse: 1.8558 - mae: 1.1984WARNING:tensorflow:Early stopping conditioned on metric `val_loss` which is not available. Available metrics are: loss,mse,mae\n",
            "31/31 [==============================] - 0s 2ms/step - loss: 13.6811 - mse: 13.6811 - mae: 2.6740\n",
            "Epoch 21/100\n",
            " 1/31 [..............................] - ETA: 0s - loss: 1.1059 - mse: 1.1059 - mae: 0.9067WARNING:tensorflow:Early stopping conditioned on metric `val_loss` which is not available. Available metrics are: loss,mse,mae\n",
            "31/31 [==============================] - 0s 2ms/step - loss: 13.6288 - mse: 13.6288 - mae: 2.5969\n",
            "Epoch 22/100\n",
            " 1/31 [..............................] - ETA: 0s - loss: 1.1989 - mse: 1.1989 - mae: 0.9467WARNING:tensorflow:Early stopping conditioned on metric `val_loss` which is not available. Available metrics are: loss,mse,mae\n",
            "31/31 [==============================] - 0s 2ms/step - loss: 13.5661 - mse: 13.5661 - mae: 2.5502\n",
            "Epoch 23/100\n",
            " 1/31 [..............................] - ETA: 0s - loss: 1.6506 - mse: 1.6506 - mae: 1.1252WARNING:tensorflow:Early stopping conditioned on metric `val_loss` which is not available. Available metrics are: loss,mse,mae\n",
            "31/31 [==============================] - 0s 2ms/step - loss: 13.7511 - mse: 13.7511 - mae: 2.5726\n",
            "Epoch 24/100\n",
            "31/31 [==============================] - ETA: 0s - loss: 14.2483 - mse: 14.2483 - mae: 2.6440WARNING:tensorflow:Early stopping conditioned on metric `val_loss` which is not available. Available metrics are: loss,mse,mae\n",
            "31/31 [==============================] - 0s 2ms/step - loss: 14.2483 - mse: 14.2483 - mae: 2.6440\n",
            "Epoch 25/100\n",
            " 1/31 [..............................] - ETA: 0s - loss: 2.1208 - mse: 2.1208 - mae: 1.2899WARNING:tensorflow:Early stopping conditioned on metric `val_loss` which is not available. Available metrics are: loss,mse,mae\n",
            "31/31 [==============================] - 0s 2ms/step - loss: 15.0009 - mse: 15.0009 - mae: 2.7422\n",
            "Epoch 26/100\n",
            " 1/31 [..............................] - ETA: 0s - loss: 2.0305 - mse: 2.0305 - mae: 1.2588WARNING:tensorflow:Early stopping conditioned on metric `val_loss` which is not available. Available metrics are: loss,mse,mae\n",
            "31/31 [==============================] - 0s 2ms/step - loss: 16.0510 - mse: 16.0510 - mae: 2.8694\n",
            "Epoch 27/100\n",
            "30/31 [============================>.] - ETA: 0s - loss: 17.5148 - mse: 17.5148 - mae: 2.9871WARNING:tensorflow:Early stopping conditioned on metric `val_loss` which is not available. Available metrics are: loss,mse,mae\n",
            "31/31 [==============================] - 0s 2ms/step - loss: 17.4310 - mse: 17.4310 - mae: 3.0133\n",
            "Epoch 28/100\n",
            "23/31 [=====================>........] - ETA: 0s - loss: 17.5817 - mse: 17.5817 - mae: 2.9162WARNING:tensorflow:Early stopping conditioned on metric `val_loss` which is not available. Available metrics are: loss,mse,mae\n",
            "31/31 [==============================] - 0s 3ms/step - loss: 19.1143 - mse: 19.1143 - mae: 3.1650\n",
            "Epoch 29/100\n",
            " 1/31 [..............................] - ETA: 0s - loss: 0.5142 - mse: 0.5142 - mae: 0.5945WARNING:tensorflow:Early stopping conditioned on metric `val_loss` which is not available. Available metrics are: loss,mse,mae\n",
            "31/31 [==============================] - 0s 2ms/step - loss: 20.9009 - mse: 20.9009 - mae: 3.3244\n",
            "Epoch 30/100\n",
            "31/31 [==============================] - ETA: 0s - loss: 22.3646 - mse: 22.3646 - mae: 3.5143WARNING:tensorflow:Early stopping conditioned on metric `val_loss` which is not available. Available metrics are: loss,mse,mae\n",
            "31/31 [==============================] - 0s 2ms/step - loss: 22.3646 - mse: 22.3646 - mae: 3.5143\n",
            "Epoch 31/100\n",
            "30/31 [============================>.] - ETA: 0s - loss: 23.6338 - mse: 23.6338 - mae: 3.7013WARNING:tensorflow:Early stopping conditioned on metric `val_loss` which is not available. Available metrics are: loss,mse,mae\n",
            "31/31 [==============================] - 0s 3ms/step - loss: 22.9798 - mse: 22.9798 - mae: 3.6366\n",
            "Epoch 32/100\n",
            " 1/31 [..............................] - ETA: 0s - loss: 7.0509 - mse: 7.0509 - mae: 2.5608WARNING:tensorflow:Early stopping conditioned on metric `val_loss` which is not available. Available metrics are: loss,mse,mae\n",
            "31/31 [==============================] - 0s 2ms/step - loss: 22.6143 - mse: 22.6143 - mae: 3.5963\n",
            "Epoch 33/100\n",
            " 1/31 [..............................] - ETA: 0s - loss: 5.4909 - mse: 5.4909 - mae: 2.2355WARNING:tensorflow:Early stopping conditioned on metric `val_loss` which is not available. Available metrics are: loss,mse,mae\n",
            "31/31 [==============================] - 0s 2ms/step - loss: 22.0606 - mse: 22.0606 - mae: 3.4853\n",
            "Epoch 34/100\n",
            " 1/31 [..............................] - ETA: 0s - loss: 3.2966 - mse: 3.2966 - mae: 1.6744WARNING:tensorflow:Early stopping conditioned on metric `val_loss` which is not available. Available metrics are: loss,mse,mae\n",
            "31/31 [==============================] - 0s 2ms/step - loss: 22.4764 - mse: 22.4764 - mae: 3.4516\n",
            "Epoch 35/100\n",
            " 1/31 [..............................] - ETA: 0s - loss: 2.2594 - mse: 2.2594 - mae: 1.3290WARNING:tensorflow:Early stopping conditioned on metric `val_loss` which is not available. Available metrics are: loss,mse,mae\n",
            "31/31 [==============================] - 0s 2ms/step - loss: 24.1297 - mse: 24.1297 - mae: 3.5676\n",
            "Epoch 36/100\n",
            "28/31 [==========================>...] - ETA: 0s - loss: 29.2535 - mse: 29.2535 - mae: 4.0246WARNING:tensorflow:Early stopping conditioned on metric `val_loss` which is not available. Available metrics are: loss,mse,mae\n",
            "31/31 [==============================] - 0s 3ms/step - loss: 26.8192 - mse: 26.8192 - mae: 3.8078\n",
            "Epoch 37/100\n",
            " 1/31 [..............................] - ETA: 0s - loss: 2.0376 - mse: 2.0376 - mae: 1.2428WARNING:tensorflow:Early stopping conditioned on metric `val_loss` which is not available. Available metrics are: loss,mse,mae\n",
            "31/31 [==============================] - 0s 2ms/step - loss: 30.7277 - mse: 30.7277 - mae: 4.1790\n",
            "Epoch 38/100\n",
            " 1/31 [..............................] - ETA: 0s - loss: 3.0571 - mse: 3.0571 - mae: 1.6013WARNING:tensorflow:Early stopping conditioned on metric `val_loss` which is not available. Available metrics are: loss,mse,mae\n",
            "31/31 [==============================] - 0s 2ms/step - loss: 36.0604 - mse: 36.0604 - mae: 4.6588\n",
            "Epoch 39/100\n",
            " 1/31 [..............................] - ETA: 0s - loss: 6.2021 - mse: 6.2021 - mae: 2.3894WARNING:tensorflow:Early stopping conditioned on metric `val_loss` which is not available. Available metrics are: loss,mse,mae\n",
            "31/31 [==============================] - 0s 2ms/step - loss: 42.8296 - mse: 42.8296 - mae: 5.2018\n",
            "Epoch 40/100\n",
            "29/31 [===========================>..] - ETA: 0s - loss: 51.5965 - mse: 51.5965 - mae: 5.7639WARNING:tensorflow:Early stopping conditioned on metric `val_loss` which is not available. Available metrics are: loss,mse,mae\n",
            "31/31 [==============================] - 0s 3ms/step - loss: 50.4177 - mse: 50.4177 - mae: 5.7452\n",
            "Epoch 41/100\n",
            "25/31 [=======================>......] - ETA: 0s - loss: 58.1771 - mse: 58.1771 - mae: 6.3788WARNING:tensorflow:Early stopping conditioned on metric `val_loss` which is not available. Available metrics are: loss,mse,mae\n",
            "31/31 [==============================] - 0s 3ms/step - loss: 57.1404 - mse: 57.1404 - mae: 6.3154\n",
            "Epoch 42/100\n",
            " 1/31 [..............................] - ETA: 0s - loss: 61.6248 - mse: 61.6248 - mae: 7.8187WARNING:tensorflow:Early stopping conditioned on metric `val_loss` which is not available. Available metrics are: loss,mse,mae\n",
            "31/31 [==============================] - 0s 2ms/step - loss: 60.4626 - mse: 60.4626 - mae: 6.7201\n",
            "Epoch 43/100\n",
            " 1/31 [..............................] - ETA: 0s - loss: 90.4381 - mse: 90.4381 - mae: 9.4840WARNING:tensorflow:Early stopping conditioned on metric `val_loss` which is not available. Available metrics are: loss,mse,mae\n",
            "31/31 [==============================] - 0s 2ms/step - loss: 58.6480 - mse: 58.6480 - mae: 6.7300\n",
            "Epoch 44/100\n",
            " 1/31 [..............................] - ETA: 0s - loss: 98.6715 - mse: 98.6715 - mae: 9.9085WARNING:tensorflow:Early stopping conditioned on metric `val_loss` which is not available. Available metrics are: loss,mse,mae\n",
            "31/31 [==============================] - 0s 2ms/step - loss: 52.8771 - mse: 52.8771 - mae: 6.1326\n",
            "Epoch 45/100\n",
            " 1/31 [..............................] - ETA: 0s - loss: 82.8494 - mse: 82.8494 - mae: 9.0751WARNING:tensorflow:Early stopping conditioned on metric `val_loss` which is not available. Available metrics are: loss,mse,mae\n",
            "31/31 [==============================] - 0s 2ms/step - loss: 47.5707 - mse: 47.5707 - mae: 5.5780\n",
            "Epoch 46/100\n",
            " 1/31 [..............................] - ETA: 0s - loss: 61.6938 - mse: 61.6938 - mae: 7.8232WARNING:tensorflow:Early stopping conditioned on metric `val_loss` which is not available. Available metrics are: loss,mse,mae\n",
            "31/31 [==============================] - 0s 2ms/step - loss: 46.1802 - mse: 46.1802 - mae: 5.5119\n",
            "Epoch 47/100\n",
            " 1/31 [..............................] - ETA: 0s - loss: 46.6948 - mse: 46.6948 - mae: 6.7973WARNING:tensorflow:Early stopping conditioned on metric `val_loss` which is not available. Available metrics are: loss,mse,mae\n",
            "31/31 [==============================] - 0s 2ms/step - loss: 48.5914 - mse: 48.5914 - mae: 5.8216\n",
            "Epoch 48/100\n",
            " 1/31 [..............................] - ETA: 0s - loss: 35.4704 - mse: 35.4704 - mae: 5.9143WARNING:tensorflow:Early stopping conditioned on metric `val_loss` which is not available. Available metrics are: loss,mse,mae\n",
            "31/31 [==============================] - 0s 2ms/step - loss: 54.0874 - mse: 54.0874 - mae: 6.2662\n",
            "Epoch 49/100\n",
            "28/31 [==========================>...] - ETA: 0s - loss: 59.1139 - mse: 59.1139 - mae: 6.5598WARNING:tensorflow:Early stopping conditioned on metric `val_loss` which is not available. Available metrics are: loss,mse,mae\n",
            "31/31 [==============================] - 0s 3ms/step - loss: 62.6498 - mse: 62.6498 - mae: 6.7943\n",
            "Epoch 50/100\n",
            "28/31 [==========================>...] - ETA: 0s - loss: 70.0267 - mse: 70.0267 - mae: 7.1254WARNING:tensorflow:Early stopping conditioned on metric `val_loss` which is not available. Available metrics are: loss,mse,mae\n",
            "31/31 [==============================] - 0s 3ms/step - loss: 74.3879 - mse: 74.3879 - mae: 7.3523\n",
            "Epoch 51/100\n",
            " 1/31 [..............................] - ETA: 0s - loss: 6.9055 - mse: 6.9055 - mae: 2.5325WARNING:tensorflow:Early stopping conditioned on metric `val_loss` which is not available. Available metrics are: loss,mse,mae\n",
            "31/31 [==============================] - 0s 2ms/step - loss: 89.0091 - mse: 89.0091 - mae: 7.8401\n",
            "Epoch 52/100\n",
            " 1/31 [..............................] - ETA: 0s - loss: 1.0678 - mse: 1.0678 - mae: 0.7945WARNING:tensorflow:Early stopping conditioned on metric `val_loss` which is not available. Available metrics are: loss,mse,mae\n",
            "31/31 [==============================] - 0s 2ms/step - loss: 105.5628 - mse: 105.5628 - mae: 8.2530\n",
            "Epoch 53/100\n",
            " 1/31 [..............................] - ETA: 0s - loss: 2.3983 - mse: 2.3983 - mae: 1.3827WARNING:tensorflow:Early stopping conditioned on metric `val_loss` which is not available. Available metrics are: loss,mse,mae\n",
            "31/31 [==============================] - 0s 2ms/step - loss: 122.3219 - mse: 122.3219 - mae: 8.9948\n",
            "Epoch 54/100\n",
            "26/31 [========================>.....] - ETA: 0s - loss: 126.9634 - mse: 126.9634 - mae: 9.3215WARNING:tensorflow:Early stopping conditioned on metric `val_loss` which is not available. Available metrics are: loss,mse,mae\n",
            "31/31 [==============================] - 0s 3ms/step - loss: 137.1622 - mse: 137.1622 - mae: 9.8015\n",
            "Epoch 55/100\n",
            " 1/31 [..............................] - ETA: 0s - loss: 37.2634 - mse: 37.2634 - mae: 6.0640WARNING:tensorflow:Early stopping conditioned on metric `val_loss` which is not available. Available metrics are: loss,mse,mae\n",
            "31/31 [==============================] - 0s 2ms/step - loss: 148.3967 - mse: 148.3967 - mae: 10.4589\n",
            "Epoch 56/100\n",
            " 1/31 [..............................] - ETA: 0s - loss: 66.9273 - mse: 66.9273 - mae: 8.1509WARNING:tensorflow:Early stopping conditioned on metric `val_loss` which is not available. Available metrics are: loss,mse,mae\n",
            "31/31 [==============================] - 0s 2ms/step - loss: 155.3331 - mse: 155.3331 - mae: 10.9153\n",
            "Epoch 57/100\n",
            " 1/31 [..............................] - ETA: 0s - loss: 98.1484 - mse: 98.1484 - mae: 9.8822WARNING:tensorflow:Early stopping conditioned on metric `val_loss` which is not available. Available metrics are: loss,mse,mae\n",
            "31/31 [==============================] - 0s 2ms/step - loss: 158.2121 - mse: 158.2121 - mae: 11.1458\n",
            "Epoch 58/100\n",
            " 1/31 [..............................] - ETA: 0s - loss: 126.9815 - mse: 126.9815 - mae: 11.2468WARNING:tensorflow:Early stopping conditioned on metric `val_loss` which is not available. Available metrics are: loss,mse,mae\n",
            "31/31 [==============================] - 0s 2ms/step - loss: 157.5848 - mse: 157.5848 - mae: 11.2156\n",
            "Epoch 59/100\n",
            "29/31 [===========================>..] - ETA: 0s - loss: 155.4516 - mse: 155.4516 - mae: 11.1897WARNING:tensorflow:Early stopping conditioned on metric `val_loss` which is not available. Available metrics are: loss,mse,mae\n",
            "31/31 [==============================] - 0s 3ms/step - loss: 154.0589 - mse: 154.0589 - mae: 11.2008\n",
            "Epoch 60/100\n",
            " 1/31 [..............................] - ETA: 0s - loss: 169.3435 - mse: 169.3435 - mae: 12.9944WARNING:tensorflow:Early stopping conditioned on metric `val_loss` which is not available. Available metrics are: loss,mse,mae\n",
            "31/31 [==============================] - 0s 2ms/step - loss: 147.9290 - mse: 147.9290 - mae: 11.0647\n",
            "Epoch 61/100\n",
            " 1/31 [..............................] - ETA: 0s - loss: 180.5024 - mse: 180.5024 - mae: 13.4169WARNING:tensorflow:Early stopping conditioned on metric `val_loss` which is not available. Available metrics are: loss,mse,mae\n",
            "31/31 [==============================] - 0s 2ms/step - loss: 139.3360 - mse: 139.3360 - mae: 10.7455\n",
            "Epoch 62/100\n",
            "30/31 [============================>.] - ETA: 0s - loss: 132.0418 - mse: 132.0418 - mae: 10.4897WARNING:tensorflow:Early stopping conditioned on metric `val_loss` which is not available. Available metrics are: loss,mse,mae\n",
            "31/31 [==============================] - 0s 2ms/step - loss: 128.2996 - mse: 128.2996 - mae: 10.2785\n",
            "Epoch 63/100\n",
            " 1/31 [..............................] - ETA: 0s - loss: 175.9727 - mse: 175.9727 - mae: 13.2470WARNING:tensorflow:Early stopping conditioned on metric `val_loss` which is not available. Available metrics are: loss,mse,mae\n",
            "31/31 [==============================] - 0s 2ms/step - loss: 114.9391 - mse: 114.9391 - mae: 9.6631\n",
            "Epoch 64/100\n",
            "30/31 [============================>.] - ETA: 0s - loss: 103.1420 - mse: 103.1420 - mae: 9.2484 WARNING:tensorflow:Early stopping conditioned on metric `val_loss` which is not available. Available metrics are: loss,mse,mae\n",
            "31/31 [==============================] - 0s 3ms/step - loss: 99.8354 - mse: 99.8354 - mae: 8.9703\n",
            "Epoch 65/100\n",
            " 1/31 [..............................] - ETA: 0s - loss: 133.4601 - mse: 133.4601 - mae: 11.5314WARNING:tensorflow:Early stopping conditioned on metric `val_loss` which is not available. Available metrics are: loss,mse,mae\n",
            "31/31 [==============================] - 0s 2ms/step - loss: 84.1030 - mse: 84.1030 - mae: 8.2238\n",
            "Epoch 66/100\n",
            " 1/31 [..............................] - ETA: 0s - loss: 104.9027 - mse: 104.9027 - mae: 10.2184WARNING:tensorflow:Early stopping conditioned on metric `val_loss` which is not available. Available metrics are: loss,mse,mae\n",
            "31/31 [==============================] - 0s 2ms/step - loss: 69.4270 - mse: 69.4270 - mae: 7.4291\n",
            "Epoch 67/100\n",
            "30/31 [============================>.] - ETA: 0s - loss: 58.9181 - mse: 58.9181 - mae: 6.8215WARNING:tensorflow:Early stopping conditioned on metric `val_loss` which is not available. Available metrics are: loss,mse,mae\n",
            "31/31 [==============================] - 0s 3ms/step - loss: 57.2468 - mse: 57.2468 - mae: 6.6845\n",
            "Epoch 68/100\n",
            "28/31 [==========================>...] - ETA: 0s - loss: 50.0403 - mse: 50.0403 - mae: 6.2473WARNING:tensorflow:Early stopping conditioned on metric `val_loss` which is not available. Available metrics are: loss,mse,mae\n",
            "31/31 [==============================] - 0s 3ms/step - loss: 47.9741 - mse: 47.9741 - mae: 6.0417\n",
            "Epoch 69/100\n",
            " 1/31 [..............................] - ETA: 0s - loss: 43.3533 - mse: 43.3533 - mae: 6.5472WARNING:tensorflow:Early stopping conditioned on metric `val_loss` which is not available. Available metrics are: loss,mse,mae\n",
            "31/31 [==============================] - 0s 2ms/step - loss: 41.3020 - mse: 41.3020 - mae: 5.5638\n",
            "Epoch 70/100\n",
            " 1/31 [..............................] - ETA: 0s - loss: 32.6386 - mse: 32.6386 - mae: 5.6702WARNING:tensorflow:Early stopping conditioned on metric `val_loss` which is not available. Available metrics are: loss,mse,mae\n",
            "31/31 [==============================] - 0s 2ms/step - loss: 36.6066 - mse: 36.6066 - mae: 5.2108\n",
            "Epoch 71/100\n",
            "30/31 [============================>.] - ETA: 0s - loss: 34.0121 - mse: 34.0121 - mae: 4.9914WARNING:tensorflow:Early stopping conditioned on metric `val_loss` which is not available. Available metrics are: loss,mse,mae\n",
            "31/31 [==============================] - 0s 3ms/step - loss: 33.3905 - mse: 33.3905 - mae: 4.9522\n",
            "Epoch 72/100\n",
            " 1/31 [..............................] - ETA: 0s - loss: 18.5899 - mse: 18.5899 - mae: 4.2548WARNING:tensorflow:Early stopping conditioned on metric `val_loss` which is not available. Available metrics are: loss,mse,mae\n",
            "31/31 [==============================] - 0s 2ms/step - loss: 31.2701 - mse: 31.2701 - mae: 4.7659\n",
            "Epoch 73/100\n",
            " 1/31 [..............................] - ETA: 0s - loss: 13.4281 - mse: 13.4281 - mae: 3.5975WARNING:tensorflow:Early stopping conditioned on metric `val_loss` which is not available. Available metrics are: loss,mse,mae\n",
            "31/31 [==============================] - 0s 2ms/step - loss: 29.9808 - mse: 29.9808 - mae: 4.6561\n",
            "Epoch 74/100\n",
            " 1/31 [..............................] - ETA: 0s - loss: 9.0991 - mse: 9.0991 - mae: 2.9347WARNING:tensorflow:Early stopping conditioned on metric `val_loss` which is not available. Available metrics are: loss,mse,mae\n",
            "31/31 [==============================] - 0s 2ms/step - loss: 29.3209 - mse: 29.3209 - mae: 4.6099\n",
            "Epoch 75/100\n",
            "30/31 [============================>.] - ETA: 0s - loss: 29.6058 - mse: 29.6058 - mae: 4.6091WARNING:tensorflow:Early stopping conditioned on metric `val_loss` which is not available. Available metrics are: loss,mse,mae\n",
            "31/31 [==============================] - 0s 2ms/step - loss: 29.1942 - mse: 29.1942 - mae: 4.5909\n",
            "Epoch 76/100\n",
            " 1/31 [..............................] - ETA: 0s - loss: 4.1514 - mse: 4.1514 - mae: 1.9145WARNING:tensorflow:Early stopping conditioned on metric `val_loss` which is not available. Available metrics are: loss,mse,mae\n",
            "31/31 [==============================] - 0s 2ms/step - loss: 29.5338 - mse: 29.5338 - mae: 4.5962\n",
            "Epoch 77/100\n",
            " 1/31 [..............................] - ETA: 0s - loss: 3.8548 - mse: 3.8548 - mae: 1.8355WARNING:tensorflow:Early stopping conditioned on metric `val_loss` which is not available. Available metrics are: loss,mse,mae\n",
            "31/31 [==============================] - 0s 2ms/step - loss: 30.3187 - mse: 30.3187 - mae: 4.6444\n",
            "Epoch 78/100\n",
            "27/31 [=========================>....] - ETA: 0s - loss: 33.3412 - mse: 33.3412 - mae: 4.8656WARNING:tensorflow:Early stopping conditioned on metric `val_loss` which is not available. Available metrics are: loss,mse,mae\n",
            "31/31 [==============================] - 0s 3ms/step - loss: 31.6478 - mse: 31.6478 - mae: 4.7507\n",
            "Epoch 79/100\n",
            " 1/31 [..............................] - ETA: 0s - loss: 3.9136 - mse: 3.9136 - mae: 1.8514WARNING:tensorflow:Early stopping conditioned on metric `val_loss` which is not available. Available metrics are: loss,mse,mae\n",
            "31/31 [==============================] - 0s 2ms/step - loss: 33.7414 - mse: 33.7414 - mae: 4.9055\n",
            "Epoch 80/100\n",
            "27/31 [=========================>....] - ETA: 0s - loss: 37.8341 - mse: 37.8341 - mae: 5.1455WARNING:tensorflow:Early stopping conditioned on metric `val_loss` which is not available. Available metrics are: loss,mse,mae\n",
            "31/31 [==============================] - 0s 3ms/step - loss: 36.7331 - mse: 36.7331 - mae: 5.1009\n",
            "Epoch 81/100\n",
            "31/31 [==============================] - ETA: 0s - loss: 40.7299 - mse: 40.7299 - mae: 5.3437WARNING:tensorflow:Early stopping conditioned on metric `val_loss` which is not available. Available metrics are: loss,mse,mae\n",
            "31/31 [==============================] - 0s 2ms/step - loss: 40.7299 - mse: 40.7299 - mae: 5.3437\n",
            "Epoch 82/100\n",
            "30/31 [============================>.] - ETA: 0s - loss: 45.4333 - mse: 45.4333 - mae: 5.5599WARNING:tensorflow:Early stopping conditioned on metric `val_loss` which is not available. Available metrics are: loss,mse,mae\n",
            "31/31 [==============================] - 0s 3ms/step - loss: 45.8731 - mse: 45.8731 - mae: 5.6275\n",
            "Epoch 83/100\n",
            " 1/31 [..............................] - ETA: 0s - loss: 0.6450 - mse: 0.6450 - mae: 0.6291WARNING:tensorflow:Early stopping conditioned on metric `val_loss` which is not available. Available metrics are: loss,mse,mae\n",
            "31/31 [==============================] - 0s 2ms/step - loss: 52.0747 - mse: 52.0747 - mae: 5.9163\n",
            "Epoch 84/100\n",
            " 1/31 [..............................] - ETA: 0s - loss: 3.5643 - mse: 3.5643 - mae: 1.7547WARNING:tensorflow:Early stopping conditioned on metric `val_loss` which is not available. Available metrics are: loss,mse,mae\n",
            "31/31 [==============================] - 0s 2ms/step - loss: 58.8703 - mse: 58.8703 - mae: 6.2161\n",
            "Epoch 85/100\n",
            "28/31 [==========================>...] - ETA: 0s - loss: 67.3702 - mse: 67.3702 - mae: 6.5434WARNING:tensorflow:Early stopping conditioned on metric `val_loss` which is not available. Available metrics are: loss,mse,mae\n",
            "31/31 [==============================] - 0s 3ms/step - loss: 65.3731 - mse: 65.3731 - mae: 6.5316\n",
            "Epoch 86/100\n",
            " 1/31 [..............................] - ETA: 0s - loss: 23.1499 - mse: 23.1499 - mae: 4.7608WARNING:tensorflow:Early stopping conditioned on metric `val_loss` which is not available. Available metrics are: loss,mse,mae\n",
            "31/31 [==============================] - 0s 2ms/step - loss: 70.4951 - mse: 70.4951 - mae: 6.8378\n",
            "Epoch 87/100\n",
            " 1/31 [..............................] - ETA: 0s - loss: 33.3545 - mse: 33.3545 - mae: 5.7333WARNING:tensorflow:Early stopping conditioned on metric `val_loss` which is not available. Available metrics are: loss,mse,mae\n",
            "31/31 [==============================] - 0s 2ms/step - loss: 73.4862 - mse: 73.4862 - mae: 7.0407\n",
            "Epoch 88/100\n",
            "29/31 [===========================>..] - ETA: 0s - loss: 77.9679 - mse: 77.9679 - mae: 7.2608WARNING:tensorflow:Early stopping conditioned on metric `val_loss` which is not available. Available metrics are: loss,mse,mae\n",
            "31/31 [==============================] - 0s 3ms/step - loss: 74.4125 - mse: 74.4125 - mae: 7.0337\n",
            "Epoch 89/100\n",
            "29/31 [===========================>..] - ETA: 0s - loss: 78.1402 - mse: 78.1402 - mae: 7.1452WARNING:tensorflow:Early stopping conditioned on metric `val_loss` which is not available. Available metrics are: loss,mse,mae\n",
            "31/31 [==============================] - 0s 3ms/step - loss: 74.2064 - mse: 74.2064 - mae: 6.8941\n",
            "Epoch 90/100\n",
            " 1/31 [..............................] - ETA: 0s - loss: 26.7703 - mse: 26.7703 - mae: 5.1271WARNING:tensorflow:Early stopping conditioned on metric `val_loss` which is not available. Available metrics are: loss,mse,mae\n",
            "31/31 [==============================] - 0s 2ms/step - loss: 74.1431 - mse: 74.1431 - mae: 6.7626\n",
            "Epoch 91/100\n",
            "26/31 [========================>.....] - ETA: 0s - loss: 87.3373 - mse: 87.3373 - mae: 7.4667WARNING:tensorflow:Early stopping conditioned on metric `val_loss` which is not available. Available metrics are: loss,mse,mae\n",
            "31/31 [==============================] - 0s 3ms/step - loss: 75.1905 - mse: 75.1905 - mae: 6.7391\n",
            "Epoch 92/100\n",
            " 1/31 [..............................] - ETA: 0s - loss: 15.4665 - mse: 15.4665 - mae: 3.8709WARNING:tensorflow:Early stopping conditioned on metric `val_loss` which is not available. Available metrics are: loss,mse,mae\n",
            "31/31 [==============================] - 0s 2ms/step - loss: 77.6135 - mse: 77.6135 - mae: 6.8496\n",
            "Epoch 93/100\n",
            " 1/31 [..............................] - ETA: 0s - loss: 12.6879 - mse: 12.6879 - mae: 3.4936WARNING:tensorflow:Early stopping conditioned on metric `val_loss` which is not available. Available metrics are: loss,mse,mae\n",
            "31/31 [==============================] - 0s 2ms/step - loss: 81.0984 - mse: 81.0984 - mae: 7.0516\n",
            "Epoch 94/100\n",
            "29/31 [===========================>..] - ETA: 0s - loss: 89.4286 - mse: 89.4286 - mae: 7.4761WARNING:tensorflow:Early stopping conditioned on metric `val_loss` which is not available. Available metrics are: loss,mse,mae\n",
            "31/31 [==============================] - 0s 3ms/step - loss: 85.0405 - mse: 85.0405 - mae: 7.2774\n",
            "Epoch 95/100\n",
            " 1/31 [..............................] - ETA: 0s - loss: 10.3667 - mse: 10.3667 - mae: 3.1440WARNING:tensorflow:Early stopping conditioned on metric `val_loss` which is not available. Available metrics are: loss,mse,mae\n",
            "31/31 [==============================] - 0s 2ms/step - loss: 88.9722 - mse: 88.9722 - mae: 7.5003\n",
            "Epoch 96/100\n",
            " 1/31 [..............................] - ETA: 0s - loss: 9.9896 - mse: 9.9896 - mae: 3.0835WARNING:tensorflow:Early stopping conditioned on metric `val_loss` which is not available. Available metrics are: loss,mse,mae\n",
            "31/31 [==============================] - 0s 2ms/step - loss: 92.4583 - mse: 92.4583 - mae: 7.6987\n",
            "Epoch 97/100\n",
            "31/31 [==============================] - ETA: 0s - loss: 95.3918 - mse: 95.3918 - mae: 7.8621WARNING:tensorflow:Early stopping conditioned on metric `val_loss` which is not available. Available metrics are: loss,mse,mae\n",
            "31/31 [==============================] - 0s 2ms/step - loss: 95.3918 - mse: 95.3918 - mae: 7.8621\n",
            "Epoch 98/100\n",
            " 1/31 [..............................] - ETA: 0s - loss: 9.8709 - mse: 9.8709 - mae: 3.0642WARNING:tensorflow:Early stopping conditioned on metric `val_loss` which is not available. Available metrics are: loss,mse,mae\n",
            "31/31 [==============================] - 0s 2ms/step - loss: 97.5913 - mse: 97.5913 - mae: 7.9849\n",
            "Epoch 99/100\n",
            "28/31 [==========================>...] - ETA: 0s - loss: 107.3870 - mse: 107.3870 - mae: 8.4859WARNING:tensorflow:Early stopping conditioned on metric `val_loss` which is not available. Available metrics are: loss,mse,mae\n",
            "31/31 [==============================] - 0s 3ms/step - loss: 99.1965 - mse: 99.1965 - mae: 8.0738\n",
            "Epoch 100/100\n",
            "29/31 [===========================>..] - ETA: 0s - loss: 104.8574 - mse: 104.8574 - mae: 8.3054WARNING:tensorflow:Early stopping conditioned on metric `val_loss` which is not available. Available metrics are: loss,mse,mae\n",
            "31/31 [==============================] - 0s 3ms/step - loss: 100.2668 - mse: 100.2668 - mae: 8.1349\n"
          ]
        }
      ]
    },
    {
      "cell_type": "markdown",
      "source": [
        "***Model evaluation***"
      ],
      "metadata": {
        "id": "F9wcKuWhOjr5"
      }
    },
    {
      "cell_type": "code",
      "source": [
        " def model_loss(history):\n",
        "    plt.figure(figsize=(8,4))\n",
        "    plt.plot(history.history['loss'], label='Train Loss')\n",
        "    plt.plot(history.history['val_loss'], label='Test Loss')\n",
        "    plt.title('model_loss')\n",
        "    plt.ylabel('loss')\n",
        "    plt.xlabel('epochs')\n",
        "    plt.legend(loc='upper right')\n",
        "    plt.show()"
      ],
      "metadata": {
        "id": "hCPdecMSFsSX"
      },
      "execution_count": null,
      "outputs": []
    },
    {
      "cell_type": "code",
      "source": [
        "train_score = model.evaluate(trainX, trainY, verbose=0)\n",
        "print('Train Root Mean Squared Error(RMSE): %.2f; Train Mean Absolute Error(MAE) : %.2f ') "
      ],
      "metadata": {
        "colab": {
          "base_uri": "https://localhost:8080/"
        },
        "id": "KaCV4pRlFsUt",
        "outputId": "239a8de0-bf31-48b6-8095-68250493ea95"
      },
      "execution_count": null,
      "outputs": [
        {
          "output_type": "stream",
          "name": "stdout",
          "text": [
            "Train Root Mean Squared Error(RMSE): %.2f; Train Mean Absolute Error(MAE) : %.2f \n"
          ]
        }
      ]
    },
    {
      "cell_type": "code",
      "source": [
        "def make_preds(model, input_data):\n",
        "  forecast = model.predict(input_data)\n",
        "  return tf.squeeze(forecast)"
      ],
      "metadata": {
        "id": "5sR3H2-KMzj6"
      },
      "execution_count": null,
      "outputs": []
    },
    {
      "cell_type": "code",
      "source": [
        "import seaborn as sns"
      ],
      "metadata": {
        "id": "3i5jQGANOAVD"
      },
      "execution_count": null,
      "outputs": []
    },
    {
      "cell_type": "code",
      "source": [
        "def plot_time_series(timesteps, \n",
        "                     values, \n",
        "                     format=\".\", \n",
        "                     label = None):\n",
        "  plt.plot(timesteps, \n",
        "           values, \n",
        "           format,\n",
        "           label = label)\n",
        "  plt.xlabel(\"Time\")\n",
        "  plt.ylabel(\"Stock Price\")\n",
        "  if label:\n",
        "    plt.legend(fontsize = 14)\n",
        "  plt.grid(True)"
      ],
      "metadata": {
        "id": "2hZvhzFePeG6"
      },
      "execution_count": null,
      "outputs": []
    },
    {
      "cell_type": "markdown",
      "source": [
        "***Visualizing Prediction***"
      ],
      "metadata": {
        "id": "gfpz_Sf6OoPu"
      }
    },
    {
      "cell_type": "code",
      "source": [
        "def prediction_plot(testY, test_predict):\n",
        "      len_prediction=[x for x in range(len(testY))]\n",
        "      plt.figure(figsize=(8,4))\n",
        "      plt.plot(len_prediction, testY[:10], marker='.', label=\"actual\")\n",
        "      plt.plot(len_prediction, test_predict[:10], 'r', label=\"prediction\")\n",
        "      plt.tight_layout()\n",
        "      sns.despine(top=True)\n",
        "      plt.subplots_adjust(left=0.07)\n",
        "      plt.ylabel('Crops', size=15)\n",
        "      plt.xlabel('Time step', size=15)\n",
        "      plt.legend(fontsize=15)\n",
        "      plt.show()"
      ],
      "metadata": {
        "id": "LEb0BPhoLI8o"
      },
      "execution_count": null,
      "outputs": []
    },
    {
      "cell_type": "code",
      "source": [
        "prediction_plot(testY, testX)"
      ],
      "metadata": {
        "colab": {
          "base_uri": "https://localhost:8080/",
          "height": 316
        },
        "id": "G68QckUpLsBI",
        "outputId": "2164ca44-ffdd-44c4-83a3-4a139d4545e0"
      },
      "execution_count": null,
      "outputs": [
        {
          "output_type": "display_data",
          "data": {
            "image/png": "[encoded data removed]",
            "text/plain": [
              "<Figure size 576x288 with 1 Axes>"
            ]
          },
          "metadata": {
            "needs_background": "light"
          }
        }
      ]
    }
  ]
}